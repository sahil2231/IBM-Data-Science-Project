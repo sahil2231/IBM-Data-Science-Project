{
 "cells": [
  {
   "cell_type": "markdown",
   "id": "e841a440",
   "metadata": {},
   "source": [
    "## Data Science "
   ]
  },
  {
   "cell_type": "markdown",
   "id": "a9ab7fa8",
   "metadata": {},
   "source": [
    "## Data Science is about data gathering, analysis and decision-making.\n",
    "\n",
    "Data Science is about finding patterns in data, through analysis, and make future predictions."
   ]
  },
  {
   "cell_type": "markdown",
   "id": "00545549",
   "metadata": {},
   "source": [
    "## Data Science Languages\n",
    "\n",
    "Python\n",
    "R\n",
    "SQL\n",
    "Julia\n",
    "Scala"
   ]
  },
  {
   "cell_type": "markdown",
   "id": "7a79da4f",
   "metadata": {},
   "source": [
    "## Data Science Libraries\n",
    "\n",
    "1. Pandas :- Provides high performance data structures and data analysis tools.\n",
    "    \n",
    "2. Numpy :- fundamental package for scientific computing.\n",
    "    \n",
    "3. Matplotlib :-  A 2D plotting library for creating static, animated and interactive visualization.\n",
    "    \n",
    "4. Seaborn :- Seaborn provides a high level interface for drawing attractive and informative statistical graphics.\n",
    "    \n",
    "5. Scikit Learn :- simple and efficient tools for data mining and data analysis, Especially for machine Learning.\n",
    "    \n",
    "6. Tensorflow :- Open source machine learning frameworks for building and training deep learnimng models.\n",
    "    \n",
    "7. PyTorch :- Another popular deep learning library, known for its dynamic computational graph.\n",
    "    \n",
    "8. SciPy :- A library for Mathematics, science and engineering , built on numpy and providing additional Functionality."
   ]
  },
  {
   "cell_type": "markdown",
   "id": "5681e2a4",
   "metadata": {},
   "source": [
    "## Data Science Tools\n",
    "\n",
    "| Category          | Tool                   | Description                                           |\n",
    "|-------------------|------------------------|-------------------------------------------------------|\n",
    "| **Programming Languages** | Python               | General-purpose language with rich data science ecosystem |\n",
    "|                      | R                    | Statistical computing and graphics                      |\n",
    "|                      | SQL                  | Query language for relational databases                 |\n",
    "|                      | Julia                | High-performance language for technical computing       |\n",
    "| **Data Manipulation**  | Pandas               | Data structures and analysis tools for Python            |\n",
    "|                      | NumPy                | Library for numerical operations in Python               |\n",
    "| **Visualization**      | Matplotlib           | 2D plotting library for creating visualizations         |\n",
    "|                      | Seaborn              | Statistical data visualization based on Matplotlib      |\n",
    "|                      | Tableau              | Interactive data visualization and business intelligence |\n",
    "| **Machine Learning**    | Scikit-Learn         | Simple and efficient tools for machine learning in Python |\n",
    "|                      | TensorFlow           | Open-source machine learning framework by Google         |\n",
    "|                      | PyTorch              | Deep learning library with dynamic computational graph  |\n",
    "| **Big Data Processing** | Apache Spark         | Distributed computing system for big data processing    |\n",
    "|                      | Hadoop               | Framework for distributed storage and processing of big data |\n",
    "| **Version Control**    | Git                  | Distributed version control system                      |\n",
    "|                      | GitHub               | Web-based platform for version control and collaboration |\n",
    "| **IDEs/Notebooks**     | Jupyter              | Open-source web application for creating and sharing documents |\n",
    "|                      | RStudio              | Integrated development environment for R                 |\n",
    "|                      | VSCode               | Visual Studio Code, a lightweight code editor            |\n",
    "\n"
   ]
  },
  {
   "cell_type": "markdown",
   "id": "01de70c4",
   "metadata": {},
   "source": [
    "## Intro Arithmetic Expression"
   ]
  },
  {
   "cell_type": "code",
   "execution_count": 2,
   "id": "96484629",
   "metadata": {},
   "outputs": [
    {
     "data": {
      "text/plain": [
       "4"
      ]
     },
     "execution_count": 2,
     "metadata": {},
     "output_type": "execute_result"
    }
   ],
   "source": [
    "2+2"
   ]
  },
  {
   "cell_type": "code",
   "execution_count": 3,
   "id": "f0caf1eb",
   "metadata": {},
   "outputs": [
    {
     "data": {
      "text/plain": [
       "4"
      ]
     },
     "execution_count": 3,
     "metadata": {},
     "output_type": "execute_result"
    }
   ],
   "source": [
    "2*2"
   ]
  },
  {
   "cell_type": "code",
   "execution_count": 4,
   "id": "155e1252",
   "metadata": {},
   "outputs": [
    {
     "name": "stdout",
     "output_type": "stream",
     "text": [
      "120 minutes is equal to 2.00 hours.\n"
     ]
    }
   ],
   "source": [
    "# Function to convert minutes to hours\n",
    "def convert_minutes_to_hours(minutes):\n",
    "    hours = minutes / 60\n",
    "    return hours\n",
    "\n",
    "# Example: Convert 120 minutes to hours\n",
    "minutes_value = 120\n",
    "hours_result = convert_minutes_to_hours(minutes_value)\n",
    "\n",
    "print(f\"{minutes_value} minutes is equal to {hours_result:.2f} hours.\")\n"
   ]
  },
  {
   "cell_type": "markdown",
   "id": "2b756126",
   "metadata": {},
   "source": [
    "## Objectives in Python\n",
    "\n",
    "1. **Learn the Basics:**\n",
    "   - Understand fundamental concepts like variables, data types, and basic operations.\n",
    "\n",
    "2. **Control Flow:**\n",
    "   - Master if statements, loops (for and while), and conditional statements.\n",
    "\n",
    "3. **Functions:**\n",
    "   - Define and use functions for code modularity and reusability.\n",
    "\n",
    "4. **Data Structures:**\n",
    "   - Explore built-in data structures such as lists, tuples, dictionaries, and sets.\n",
    "\n",
    "5. **File Handling:**\n",
    "   - Read from and write to files using Python.\n",
    "\n",
    "6. **Exception Handling:**\n",
    "   - Handle errors and exceptions gracefully in your code.\n",
    "\n",
    "7. **Object-Oriented Programming (OOP):**\n",
    "   - Understand and apply OOP principles, including classes and inheritance.\n",
    "\n",
    "8. **Modules and Packages:**\n",
    "   - Organize code into modules and use external packages for extended functionality.\n",
    "\n",
    "9. **Regular Expressions:**\n",
    "   - Learn to use regular expressions for pattern matching in strings.\n",
    "\n",
    "10. **Pythonic Coding:**\n",
    "    - Embrace Pythonic conventions and idioms for clean and efficient code.\n",
    "\n",
    "11. **Testing:**\n",
    "    - Implement unit tests to ensure code reliability.\n",
    "\n",
    "12. **Documentation:**\n",
    "    - Write clear and concise documentation for your code.\n",
    "\n",
    "13. **Version Control:**\n",
    "    - Use version control systems like Git for collaborative development.\n",
    "\n",
    "14. **Data Manipulation and Analysis:**\n",
    "    - Utilize libraries like Pandas for data manipulation and analysis.\n",
    "\n",
    "15. **Visualization:**\n",
    "    - Create visualizations using libraries like Matplotlib and Seaborn.\n",
    "\n"
   ]
  },
  {
   "cell_type": "markdown",
   "id": "8caebb3d",
   "metadata": {},
   "source": [
    "## Author\n",
    "\n",
    "**Author:** Sahil Ahuja\n"
   ]
  },
  {
   "cell_type": "code",
   "execution_count": null,
   "id": "948264d8",
   "metadata": {},
   "outputs": [],
   "source": []
  }
 ],
 "metadata": {
  "kernelspec": {
   "display_name": "Python 3",
   "language": "python",
   "name": "python3"
  },
  "language_info": {
   "codemirror_mode": {
    "name": "ipython",
    "version": 3
   },
   "file_extension": ".py",
   "mimetype": "text/x-python",
   "name": "python",
   "nbconvert_exporter": "python",
   "pygments_lexer": "ipython3",
   "version": "3.8.8"
  }
 },
 "nbformat": 4,
 "nbformat_minor": 5
}
